{
  "cells": [
    {
      "cell_type": "markdown",
      "metadata": {
        "id": "h1lJfTeSgKCf"
      },
      "source": [
        "# Style Transfer with OpenVINO™\n",
        "\n",
        "This notebook demonstrates style transfer with OpenVINO, using the Style Transfer Models from [ONNX Model Repository](https://github.com/onnx/models). Specifically, [Fast Neural Style Transfer](https://github.com/onnx/models/tree/master/vision/style_transfer/fast_neural_style) model, which is designed to mix the content of an image with the style of another image.\n",
        "\n",
        "![style transfer](https://user-images.githubusercontent.com/109281183/208703143-049f712d-2777-437c-8172-597ef7d53fc3.gif)\n",
        "\n",
        "This notebook uses five pre-trained models, for the following styles: Mosaic, Rain Princess, Candy, Udnie and Pointilism. The models are from [ONNX Model Repository](https://github.com/onnx/models) and are based on the research paper [Perceptual Losses for Real-Time Style Transfer and Super-Resolution](https://arxiv.org/abs/1603.08155) along with [Instance Normalization](https://arxiv.org/abs/1607.08022). Final part of this notebook shows live inference results from a webcam. Additionally, you can also upload a video file.\n",
        "\n",
        "> **NOTE**: If you have a webcam on your computer, you can see live results streaming in the notebook. If you run the notebook on a server, the webcam will not work but you can run inference, using a video file."
      ]
    },
    {
      "cell_type": "markdown",
      "metadata": {
        "id": "uMUSRJb_gKCl"
      },
      "source": [
        "## Preparation\n",
        "\n",
        "### Install requirements"
      ]
    },
    {
      "cell_type": "code",
      "execution_count": 3,
      "metadata": {
        "id": "X-CakbNMgKCm",
        "colab": {
          "base_uri": "https://localhost:8080/"
        },
        "outputId": "b11ab27e-274a-4400-ef39-f774ba737202"
      },
      "outputs": [
        {
          "output_type": "execute_result",
          "data": {
            "text/plain": [
              "('notebook_utils.py', <http.client.HTTPMessage at 0x7fc1d15bac80>)"
            ]
          },
          "metadata": {},
          "execution_count": 3
        }
      ],
      "source": [
        "!pip install -q \"openvino-dev>=2023.0.0\"\n",
        "!pip install -q opencv-python requests tqdm\n",
        "\n",
        "# Fetch `notebook_utils` module\n",
        "import urllib.request\n",
        "urllib.request.urlretrieve(\n",
        "    url='https://raw.githubusercontent.com/openvinotoolkit/openvino_notebooks/main/notebooks/utils/notebook_utils.py',\n",
        "    filename='notebook_utils.py'\n",
        ")"
      ]
    },
    {
      "cell_type": "markdown",
      "metadata": {
        "id": "01JuCm8pgKCo"
      },
      "source": [
        "### Imports"
      ]
    },
    {
      "cell_type": "code",
      "execution_count": 4,
      "metadata": {
        "pycharm": {
          "name": "#%%\n"
        },
        "tags": [],
        "id": "N-eFVEUYgKCo"
      },
      "outputs": [],
      "source": [
        "import collections\n",
        "import time\n",
        "\n",
        "import cv2\n",
        "import numpy as np\n",
        "from pathlib import Path\n",
        "from IPython import display\n",
        "from ipywidgets import interactive, ToggleButtons\n",
        "from openvino.runtime import Core\n",
        "\n",
        "import notebook_utils as utils"
      ]
    },
    {
      "cell_type": "markdown",
      "metadata": {
        "id": "5z8-FS9bgKCo"
      },
      "source": [
        "Select one of the styles below: Mosaic, Rain Princess, Candy, Udnie, and Pointilism to do the style transfer."
      ]
    },
    {
      "cell_type": "code",
      "execution_count": 5,
      "metadata": {
        "tags": [],
        "id": "2q4VFuV9gKCp",
        "colab": {
          "base_uri": "https://localhost:8080/",
          "height": 69,
          "referenced_widgets": [
            "ac06c3df9b6b4fd1b734655d11d74823",
            "e3dba5c468c749d191e71b922d8f2748",
            "47c89a52336b4a24924a2ee92b3b5588",
            "be2bc345e98f44169e1110e3ede3ab79",
            "b842705595334be4b48d479501abde59",
            "b14c91cb340b4ae8a728d437edb1bd5e",
            "f808d6118b404bf1af47e542476c4a05"
          ]
        },
        "outputId": "f4f24982-fdb2-41b2-812c-8e53aafa2406"
      },
      "outputs": [
        {
          "output_type": "display_data",
          "data": {
            "text/plain": [
              "interactive(children=(ToggleButtons(description='Click one of the styles you want to use for the style transfe…"
            ],
            "application/vnd.jupyter.widget-view+json": {
              "version_major": 2,
              "version_minor": 0,
              "model_id": "ac06c3df9b6b4fd1b734655d11d74823"
            }
          },
          "metadata": {}
        }
      ],
      "source": [
        "# Option to select different styles\n",
        "styleButtons = ToggleButtons(\n",
        "    options=['MOSAIC', 'RAIN-PRINCESS', 'CANDY', 'UDNIE', 'POINTILISM'],\n",
        "    description=\"Click one of the styles you want to use for the style transfer\",\n",
        "    disabled=False,\n",
        "    style={'description_width': '300px'})\n",
        "\n",
        "interactive(lambda option: print(option), option=styleButtons)"
      ]
    },
    {
      "cell_type": "markdown",
      "metadata": {
        "id": "X74ltZUIgKCp"
      },
      "source": [
        "## The Model\n",
        "\n",
        "### Download the Model\n",
        "\n",
        "The style transfer model, selected in the previous step, will be downloaded to `model_path` if you have not already downloaded it. The models are provided by the ONNX Model Zoo in `.onnx` format, which means it could be used with OpenVINO directly. However, this notebook will also show how you can use the Model Optimizer to convert ONNX to OpenVINO Intermediate Representation (IR) with `FP16` precision."
      ]
    },
    {
      "cell_type": "code",
      "execution_count": 6,
      "metadata": {
        "tags": [],
        "id": "99Ktd4aCgKCq",
        "colab": {
          "base_uri": "https://localhost:8080/"
        },
        "outputId": "f82e1ac1-77c9-4243-8a27-abfaf133fab5"
      },
      "outputs": [
        {
          "output_type": "stream",
          "name": "stdout",
          "text": [
            "'model/mosaic-9.onnx' already exists.\n"
          ]
        },
        {
          "output_type": "execute_result",
          "data": {
            "text/plain": [
              "PosixPath('/content/model/mosaic-9.onnx')"
            ]
          },
          "metadata": {},
          "execution_count": 6
        }
      ],
      "source": [
        "# Directory to download the model from ONNX model zoo\n",
        "base_model_dir = \"model\"\n",
        "base_url = \"https://github.com/onnx/models/raw/main/vision/style_transfer/fast_neural_style/model\"\n",
        "\n",
        "# Selected ONNX model will be downloaded in the path\n",
        "model_path = Path(f\"{styleButtons.value.lower()}-9.onnx\")\n",
        "\n",
        "style_url = f\"{base_url}/{model_path}\"\n",
        "utils.download_file(style_url, directory=base_model_dir)"
      ]
    },
    {
      "cell_type": "markdown",
      "metadata": {
        "pycharm": {
          "name": "#%% md\n"
        },
        "id": "LUevYIfvgKCr"
      },
      "source": [
        "### Convert ONNX Model to OpenVINO IR Format\n",
        "\n",
        "In the next step, you will convert the ONNX model to OpenVINO IR format with `FP16` precision. While ONNX models are directly supported by OpenVINO runtime, it can be useful to convert them to IR format to take advantage of OpenVINO optimization tools and features. The `mo.convert_model` python function can be used for converting model, using OpenVINO Model Optimizer. The converted model is saved to the model directory. The function returns instance of OpenVINO Model class, which is ready to use in Python interface but can also be serialized to OpenVINO IR format for future execution. If the model has been already converted, you can skip this step."
      ]
    },
    {
      "cell_type": "code",
      "execution_count": 7,
      "metadata": {
        "tags": [],
        "id": "aIfnBm-kgKCr"
      },
      "outputs": [],
      "source": [
        "# Construct the command for Model Optimizer.\n",
        "from openvino.runtime import serialize\n",
        "from openvino.tools import mo\n",
        "\n",
        "ov_model = mo.convert_model(f\"model/{styleButtons.value.lower()}-9.onnx\", compress_to_fp16=True)\n",
        "serialize(ov_model, f\"model/{styleButtons.value.lower()}-9.xml\")"
      ]
    },
    {
      "cell_type": "code",
      "execution_count": 8,
      "metadata": {
        "tags": [],
        "id": "zMTL8ZAEgKCr"
      },
      "outputs": [],
      "source": [
        "# Converted IR model path\n",
        "ir_path = Path(f\"model/{styleButtons.value.lower()}-9.xml\")\n",
        "onnx_path = Path(f\"model/{model_path}\")"
      ]
    },
    {
      "cell_type": "markdown",
      "metadata": {
        "id": "9O6wotrUgKCs"
      },
      "source": [
        "### Load the Model\n",
        "\n",
        "Both the ONNX model(s) and converted IR model(s) are stored in the `model` directory.\n",
        "\n",
        "Only a few lines of code are required to run the model. First, initialize OpenVINO Runtime. Then, read the network architecture and model weights from the `.bin` and `.xml` files to compile for the desired device. If you select `GPU` you may need to wait briefly for it to load, as the startup time is somewhat longer than `CPU`.\n",
        "\n",
        "To let OpenVINO automatically select the best device for inference just use `AUTO`. In most cases, the best device to use is `GPU` (better performance, but slightly longer startup time).\n",
        "\n",
        "OpenVINO Runtime can load ONNX models from [ONNX Model Repository](https://github.com/onnx/models) directly. In such cases, use ONNX path instead of IR model to load the model. It is recommended to load the OpenVINO Intermediate Representation (IR) model for the best results."
      ]
    },
    {
      "cell_type": "code",
      "execution_count": 9,
      "metadata": {
        "pycharm": {
          "name": "#%%\n"
        },
        "tags": [],
        "id": "NUh7iujbgKCs"
      },
      "outputs": [],
      "source": [
        "# Initialize OpenVINO Runtime.\n",
        "ie_core = Core()\n",
        "\n",
        "# Read the network and corresponding weights from ONNX Model.\n",
        "# model = ie_core.read_model(model=onnx_path)\n",
        "\n",
        "# Read the network and corresponding weights from IR Model.\n",
        "model = ie_core.read_model(model=ir_path)\n",
        "\n",
        "# Compile the model for CPU (or change to GPU, MYRIAD etc. for other devices)\n",
        "# or let OpenVINO select the best available device with AUTO.\n",
        "compiled_model = ie_core.compile_model(model=model, device_name=\"AUTO\")\n",
        "\n",
        "# Get the input and output nodes.\n",
        "input_layer = compiled_model.input(0)\n",
        "output_layer = compiled_model.output(0)"
      ]
    },
    {
      "cell_type": "markdown",
      "metadata": {
        "id": "miJJvkbygKCs"
      },
      "source": [
        "Input and output layers have the names of the input node and output node respectively. For *fast-neural-style-mosaic-onnx*, there is 1 input and 1 output with the `(1, 3, 224, 224)` shape."
      ]
    },
    {
      "cell_type": "code",
      "execution_count": 10,
      "metadata": {
        "pycharm": {
          "name": "#%%\n"
        },
        "tags": [],
        "id": "go148buVgKCs",
        "colab": {
          "base_uri": "https://localhost:8080/"
        },
        "outputId": "ef308dc9-ab13-49e5-e814-6a83a7ff5fbd"
      },
      "outputs": [
        {
          "output_type": "stream",
          "name": "stdout",
          "text": [
            "input1 output1\n",
            "[1,3,224,224]\n",
            "[1,3,224,224]\n"
          ]
        }
      ],
      "source": [
        "print(input_layer.any_name, output_layer.any_name)\n",
        "print(input_layer.shape)\n",
        "print(output_layer.shape)\n",
        "\n",
        "# Get the input size.\n",
        "N, C, H, W = list(input_layer.shape)"
      ]
    },
    {
      "cell_type": "markdown",
      "metadata": {
        "id": "c249Vl25gKCt"
      },
      "source": [
        "### Preprocess the image\n",
        "Preprocess the input image before running the model. Prepare the dimensions and channel order for the image to match the original image with the input tensor\n",
        "\n",
        "1. Preprocess a frame to convert from `unit8` to `float32`.\n",
        "2. Transpose the array to match with the network input size"
      ]
    },
    {
      "cell_type": "code",
      "execution_count": 11,
      "metadata": {
        "tags": [],
        "id": "BPCVrKIUgKCu"
      },
      "outputs": [],
      "source": [
        "# Preprocess the input image.\n",
        "def preprocess_images(frame, H, W):\n",
        "    \"\"\"\n",
        "    Preprocess input image to align with network size\n",
        "\n",
        "    Parameters:\n",
        "        :param frame:  input frame\n",
        "        :param H:  height of the frame to style transfer model\n",
        "        :param W:  width of the frame to style transfer model\n",
        "        :returns: resized and transposed frame\n",
        "    \"\"\"\n",
        "    image = np.array(frame).astype('float32')\n",
        "    image = cv2.cvtColor(image, cv2.COLOR_RGB2BGR)\n",
        "    image = cv2.resize(src=image, dsize=(H, W), interpolation=cv2.INTER_AREA)\n",
        "    image = np.transpose(image, [2, 0, 1])\n",
        "    image = np.expand_dims(image, axis=0)\n",
        "    return image"
      ]
    },
    {
      "cell_type": "markdown",
      "metadata": {
        "id": "1xhnnXPbgKCu"
      },
      "source": [
        "### Helper function to postprocess the stylized image\n",
        "The converted IR model outputs a NumPy `float32` array of the [(1, 3, 224, 224)](https://github.com/openvinotoolkit/open_model_zoo/blob/master/models/public/fast-neural-style-mosaic-onnx/README.md) shape ."
      ]
    },
    {
      "cell_type": "code",
      "execution_count": 12,
      "metadata": {
        "tags": [],
        "id": "bQp_n5kCgKCv"
      },
      "outputs": [],
      "source": [
        "# Postprocess the result\n",
        "def convert_result_to_image(frame, stylized_image) -> np.ndarray:\n",
        "    \"\"\"\n",
        "    Postprocess stylized image for visualization\n",
        "\n",
        "    Parameters:\n",
        "        :param frame:  input frame\n",
        "        :param stylized_image:  stylized image with specific style applied\n",
        "        :returns: resized stylized image for visualization\n",
        "    \"\"\"\n",
        "    h, w = frame.shape[:2]\n",
        "    stylized_image = stylized_image.squeeze().transpose(1, 2, 0)\n",
        "    stylized_image = cv2.resize(src=stylized_image, dsize=(w, h), interpolation=cv2.INTER_CUBIC)\n",
        "    stylized_image = np.clip(stylized_image, 0, 255).astype(np.uint8)\n",
        "    stylized_image = cv2.cvtColor(stylized_image, cv2.COLOR_BGR2RGB)\n",
        "    return stylized_image"
      ]
    },
    {
      "cell_type": "markdown",
      "metadata": {
        "id": "hzN2kKSzgKCv"
      },
      "source": [
        "### Main Processing Function\n",
        "\n",
        "The style transfer function can be run in different operating modes, either using a webcam or a video file."
      ]
    },
    {
      "cell_type": "code",
      "execution_count": 13,
      "metadata": {
        "tags": [],
        "id": "A9Tlk_nagKCw"
      },
      "outputs": [],
      "source": [
        "def run_style_transfer(source=0, flip=True, use_popup=True, skip_first_frames=0):\n",
        "    \"\"\"\n",
        "    Main function to run the style inference:\n",
        "    1. Create a video player to play with target fps (utils.VideoPlayer).\n",
        "    2. Prepare a set of frames for style transfer.\n",
        "    3. Run AI inference for style transfer.\n",
        "    4. Visualize the results.\n",
        "    Parameters:\n",
        "        source: The webcam number to feed the video stream with primary webcam set to \"0\", or the video path.\n",
        "        flip: To be used by VideoPlayer function for flipping capture image.\n",
        "        use_popup: False for showing encoded frames over this notebook, True for creating a popup window.\n",
        "        skip_first_frames: Number of frames to skip at the beginning of the video.\n",
        "    \"\"\"\n",
        "    # Create a video player to play with target fps.\n",
        "    player = None\n",
        "    try:\n",
        "        player = utils.VideoPlayer(source=source, flip=flip, fps=30, skip_first_frames=skip_first_frames)\n",
        "        # Start video capturing.\n",
        "        player.start()\n",
        "        if use_popup:\n",
        "            title = \"Press ESC to Exit\"\n",
        "            cv2.namedWindow(winname=title, flags=cv2.WINDOW_GUI_NORMAL | cv2.WINDOW_AUTOSIZE)\n",
        "\n",
        "        processing_times = collections.deque()\n",
        "        while True:\n",
        "            # Grab the frame.\n",
        "            frame = player.next()\n",
        "            if frame is None:\n",
        "                print(\"Source ended\")\n",
        "                break\n",
        "            # If the frame is larger than full HD, reduce size to improve the performance.\n",
        "            scale = 720 / max(frame.shape)\n",
        "            if scale < 1:\n",
        "                frame = cv2.resize(src=frame, dsize=None, fx=scale, fy=scale,\n",
        "                                   interpolation=cv2.INTER_AREA)\n",
        "            # Preprocess the input image.\n",
        "\n",
        "            image = preprocess_images(frame, H, W)\n",
        "\n",
        "            # Measure processing time for the input image.\n",
        "            start_time = time.time()\n",
        "            # Perform the inference step.\n",
        "            stylized_image = compiled_model([image])[output_layer]\n",
        "            stop_time = time.time()\n",
        "\n",
        "            # Postprocessing for stylized image.\n",
        "            result_image = convert_result_to_image(frame, stylized_image)\n",
        "\n",
        "            processing_times.append(stop_time - start_time)\n",
        "            # Use processing times from last 200 frames.\n",
        "            if len(processing_times) > 200:\n",
        "                processing_times.popleft()\n",
        "            processing_time_det = np.mean(processing_times) * 1000\n",
        "\n",
        "            # Visualize the results.\n",
        "            f_height, f_width = frame.shape[:2]\n",
        "            fps = 1000 / processing_time_det\n",
        "            cv2.putText(result_image, text=f\"Inference time: {processing_time_det:.1f}ms ({fps:.1f} FPS)\",\n",
        "                        org=(20, 40),fontFace=cv2.FONT_HERSHEY_COMPLEX, fontScale=f_width / 1000,\n",
        "                        color=(0, 0, 255), thickness=1, lineType=cv2.LINE_AA)\n",
        "\n",
        "            # Use this workaround if there is flickering.\n",
        "            if use_popup:\n",
        "                cv2.imshow(title, result_image)\n",
        "                key = cv2.waitKey(1)\n",
        "                # escape = 27\n",
        "                if key == 27:\n",
        "                    break\n",
        "            else:\n",
        "                # Encode numpy array to jpg.\n",
        "                _, encoded_img = cv2.imencode(\".jpg\", result_image, params=[cv2.IMWRITE_JPEG_QUALITY, 90])\n",
        "                # Create an IPython image.\n",
        "                i = display.Image(data=encoded_img)\n",
        "                # Display the image in this notebook.\n",
        "                display.clear_output(wait=True)\n",
        "                display.display(i)\n",
        "    # ctrl-c\n",
        "    except KeyboardInterrupt:\n",
        "        print(\"Interrupted\")\n",
        "    # any different error\n",
        "    except RuntimeError as e:\n",
        "        print(e)\n",
        "    finally:\n",
        "        if player is not None:\n",
        "            # Stop capturing.\n",
        "            player.stop()\n",
        "        if use_popup:\n",
        "            cv2.destroyAllWindows()"
      ]
    },
    {
      "cell_type": "markdown",
      "metadata": {
        "id": "zxN23-3JgKCw"
      },
      "source": [
        "### Run Style Transfer Using a Webcam\n",
        "\n",
        "Now, try to apply the style transfer model using video from your webcam. By default, the primary webcam is set with `source=0`. If you have multiple webcams, each one will be assigned a consecutive number starting at 0. Set `flip=True` when using a front-facing camera. Some web browsers, especially Mozilla Firefox, may cause flickering. If you experience flickering, set `use_popup=True`.\n",
        "\n",
        "> **NOTE**: To use a webcam, you must run this Jupyter notebook on a computer with a webcam. If you run it on a server, you will not be able to access the webcam. However, you can still perform inference on a video file in the final step."
      ]
    },
    {
      "cell_type": "code",
      "execution_count": 14,
      "metadata": {
        "tags": [],
        "id": "6tILOD2IgKCw",
        "colab": {
          "base_uri": "https://localhost:8080/"
        },
        "outputId": "c119ba5a-fdda-4f1a-f10b-6a028aae43b4"
      },
      "outputs": [
        {
          "output_type": "stream",
          "name": "stdout",
          "text": [
            "Cannot open camera 0\n"
          ]
        }
      ],
      "source": [
        "run_style_transfer(source=0, flip=True, use_popup=False)"
      ]
    },
    {
      "cell_type": "markdown",
      "metadata": {
        "id": "PMuy7FvFgKCx"
      },
      "source": [
        "### Run Style Transfer on a Video File\n",
        "\n",
        "You can find out how the model works with a video file. For that, use any [formats supported by OpenCV](https://docs.opencv.org/4.5.1/dd/d43/tutorial_py_video_display.html). You can press the stop button to terminate anytime while the video file is running.\n",
        "\n",
        "> **NOTE**: Sometimes, the video will be cut off when frames are corrupted. If this happens, or you experience any other problems with your video, use the [HandBrake](https://handbrake.fr/) encoder tool to create a video file in MPEG format."
      ]
    },
    {
      "cell_type": "code",
      "execution_count": 15,
      "metadata": {
        "pycharm": {
          "name": "#%%\n"
        },
        "tags": [],
        "test_replace": {
          "use_popup=False": "use_popup=False, skip_first_frames=12540"
        },
        "id": "Q-zL3ZZrgKCx",
        "outputId": "66b51197-2ff5-4c6d-a709-845ece2ecf06",
        "colab": {
          "base_uri": "https://localhost:8080/",
          "height": 395
        }
      },
      "outputs": [
        {
          "output_type": "display_data",
          "data": {
            "image/png": "[encoded data removed]",
            "text/plain": [
              "<IPython.core.display.Image object>"
            ]
          },
          "metadata": {}
        },
        {
          "output_type": "stream",
          "name": "stdout",
          "text": [
            "Source ended\n"
          ]
        }
      ],
      "source": [
        "video_file = \"https://storage.openvinotoolkit.org/repositories/openvino_notebooks/data/data/video/Coco%20Walking%20in%20Berkeley.mp4\"\n",
        "run_style_transfer(source=video_file, flip=False, use_popup=False)"
      ]
    },
    {
      "cell_type": "markdown",
      "metadata": {
        "pycharm": {
          "name": "#%% md\n"
        },
        "tags": [],
        "id": "6hu5ZIA6gKCy"
      },
      "source": [
        "## References\n",
        "\n",
        "1. [ONNX Model Zoo](https://github.com/onnx/models)\n",
        "2. [Fast Neural Style Transfer](https://github.com/onnx/models/tree/main/vision/style_transfer/fast_neural_style)\n",
        "3. [Fast Neural Style Mosaic Onnx - Open Model Zoo](https://github.com/openvinotoolkit/open_model_zoo/blob/master/models/public/fast-neural-style-mosaic-onnx/README.md)"
      ]
    }
  ],
  "metadata": {
    "kernelspec": {
      "display_name": "Python 3 (ipykernel)",
      "language": "python",
      "name": "python3"
    },
    "language_info": {
      "codemirror_mode": {
        "name": "ipython",
        "version": 3
      },
      "file_extension": ".py",
      "mimetype": "text/x-python",
      "name": "python",
      "nbconvert_exporter": "python",
      "pygments_lexer": "ipython3",
      "version": "3.10.6"
    },
    "vscode": {
      "interpreter": {
        "hash": "e0404472fd7b5b63117a9fa5c50283296e2708c2449c6090d2cdf8903f95897f"
      }
    },
    "colab": {
      "provenance": []
    },
    "widgets": {
      "application/vnd.jupyter.widget-state+json": {
        "ac06c3df9b6b4fd1b734655d11d74823": {
          "model_module": "@jupyter-widgets/controls",
          "model_name": "VBoxModel",
          "model_module_version": "1.5.0",
          "state": {
            "_dom_classes": [
              "widget-interact"
            ],
            "_model_module": "@jupyter-widgets/controls",
            "_model_module_version": "1.5.0",
            "_model_name": "VBoxModel",
            "_view_count": null,
            "_view_module": "@jupyter-widgets/controls",
            "_view_module_version": "1.5.0",
            "_view_name": "VBoxView",
            "box_style": "",
            "children": [
              "IPY_MODEL_e3dba5c468c749d191e71b922d8f2748",
              "IPY_MODEL_47c89a52336b4a24924a2ee92b3b5588"
            ],
            "layout": "IPY_MODEL_be2bc345e98f44169e1110e3ede3ab79"
          }
        },
        "e3dba5c468c749d191e71b922d8f2748": {
          "model_module": "@jupyter-widgets/controls",
          "model_name": "ToggleButtonsModel",
          "model_module_version": "1.5.0",
          "state": {
            "_dom_classes": [],
            "_model_module": "@jupyter-widgets/controls",
            "_model_module_version": "1.5.0",
            "_model_name": "ToggleButtonsModel",
            "_options_labels": [
              "MOSAIC",
              "RAIN-PRINCESS",
              "CANDY",
              "UDNIE",
              "POINTILISM"
            ],
            "_view_count": null,
            "_view_module": "@jupyter-widgets/controls",
            "_view_module_version": "1.5.0",
            "_view_name": "ToggleButtonsView",
            "button_style": "",
            "description": "Click one of the styles you want to use for the style transfer",
            "description_tooltip": null,
            "disabled": false,
            "icons": [],
            "index": 0,
            "layout": "IPY_MODEL_b842705595334be4b48d479501abde59",
            "style": "IPY_MODEL_b14c91cb340b4ae8a728d437edb1bd5e",
            "tooltips": []
          }
        },
        "47c89a52336b4a24924a2ee92b3b5588": {
          "model_module": "@jupyter-widgets/output",
          "model_name": "OutputModel",
          "model_module_version": "1.0.0",
          "state": {
            "_dom_classes": [],
            "_model_module": "@jupyter-widgets/output",
            "_model_module_version": "1.0.0",
            "_model_name": "OutputModel",
            "_view_count": null,
            "_view_module": "@jupyter-widgets/output",
            "_view_module_version": "1.0.0",
            "_view_name": "OutputView",
            "layout": "IPY_MODEL_f808d6118b404bf1af47e542476c4a05",
            "msg_id": "",
            "outputs": [
              {
                "output_type": "stream",
                "name": "stdout",
                "text": [
                  "MOSAIC\n"
                ]
              }
            ]
          }
        },
        "be2bc345e98f44169e1110e3ede3ab79": {
          "model_module": "@jupyter-widgets/base",
          "model_name": "LayoutModel",
          "model_module_version": "1.2.0",
          "state": {
            "_model_module": "@jupyter-widgets/base",
            "_model_module_version": "1.2.0",
            "_model_name": "LayoutModel",
            "_view_count": null,
            "_view_module": "@jupyter-widgets/base",
            "_view_module_version": "1.2.0",
            "_view_name": "LayoutView",
            "align_content": null,
            "align_items": null,
            "align_self": null,
            "border": null,
            "bottom": null,
            "display": null,
            "flex": null,
            "flex_flow": null,
            "grid_area": null,
            "grid_auto_columns": null,
            "grid_auto_flow": null,
            "grid_auto_rows": null,
            "grid_column": null,
            "grid_gap": null,
            "grid_row": null,
            "grid_template_areas": null,
            "grid_template_columns": null,
            "grid_template_rows": null,
            "height": null,
            "justify_content": null,
            "justify_items": null,
            "left": null,
            "margin": null,
            "max_height": null,
            "max_width": null,
            "min_height": null,
            "min_width": null,
            "object_fit": null,
            "object_position": null,
            "order": null,
            "overflow": null,
            "overflow_x": null,
            "overflow_y": null,
            "padding": null,
            "right": null,
            "top": null,
            "visibility": null,
            "width": null
          }
        },
        "b842705595334be4b48d479501abde59": {
          "model_module": "@jupyter-widgets/base",
          "model_name": "LayoutModel",
          "model_module_version": "1.2.0",
          "state": {
            "_model_module": "@jupyter-widgets/base",
            "_model_module_version": "1.2.0",
            "_model_name": "LayoutModel",
            "_view_count": null,
            "_view_module": "@jupyter-widgets/base",
            "_view_module_version": "1.2.0",
            "_view_name": "LayoutView",
            "align_content": null,
            "align_items": null,
            "align_self": null,
            "border": null,
            "bottom": null,
            "display": null,
            "flex": null,
            "flex_flow": null,
            "grid_area": null,
            "grid_auto_columns": null,
            "grid_auto_flow": null,
            "grid_auto_rows": null,
            "grid_column": null,
            "grid_gap": null,
            "grid_row": null,
            "grid_template_areas": null,
            "grid_template_columns": null,
            "grid_template_rows": null,
            "height": null,
            "justify_content": null,
            "justify_items": null,
            "left": null,
            "margin": null,
            "max_height": null,
            "max_width": null,
            "min_height": null,
            "min_width": null,
            "object_fit": null,
            "object_position": null,
            "order": null,
            "overflow": null,
            "overflow_x": null,
            "overflow_y": null,
            "padding": null,
            "right": null,
            "top": null,
            "visibility": null,
            "width": null
          }
        },
        "b14c91cb340b4ae8a728d437edb1bd5e": {
          "model_module": "@jupyter-widgets/controls",
          "model_name": "ToggleButtonsStyleModel",
          "model_module_version": "1.5.0",
          "state": {
            "_model_module": "@jupyter-widgets/controls",
            "_model_module_version": "1.5.0",
            "_model_name": "ToggleButtonsStyleModel",
            "_view_count": null,
            "_view_module": "@jupyter-widgets/base",
            "_view_module_version": "1.2.0",
            "_view_name": "StyleView",
            "button_width": "",
            "description_width": "300px",
            "font_weight": ""
          }
        },
        "f808d6118b404bf1af47e542476c4a05": {
          "model_module": "@jupyter-widgets/base",
          "model_name": "LayoutModel",
          "model_module_version": "1.2.0",
          "state": {
            "_model_module": "@jupyter-widgets/base",
            "_model_module_version": "1.2.0",
            "_model_name": "LayoutModel",
            "_view_count": null,
            "_view_module": "@jupyter-widgets/base",
            "_view_module_version": "1.2.0",
            "_view_name": "LayoutView",
            "align_content": null,
            "align_items": null,
            "align_self": null,
            "border": null,
            "bottom": null,
            "display": null,
            "flex": null,
            "flex_flow": null,
            "grid_area": null,
            "grid_auto_columns": null,
            "grid_auto_flow": null,
            "grid_auto_rows": null,
            "grid_column": null,
            "grid_gap": null,
            "grid_row": null,
            "grid_template_areas": null,
            "grid_template_columns": null,
            "grid_template_rows": null,
            "height": null,
            "justify_content": null,
            "justify_items": null,
            "left": null,
            "margin": null,
            "max_height": null,
            "max_width": null,
            "min_height": null,
            "min_width": null,
            "object_fit": null,
            "object_position": null,
            "order": null,
            "overflow": null,
            "overflow_x": null,
            "overflow_y": null,
            "padding": null,
            "right": null,
            "top": null,
            "visibility": null,
            "width": null
          }
        }
      }
    }
  },
  "nbformat": 4,
  "nbformat_minor": 0
}